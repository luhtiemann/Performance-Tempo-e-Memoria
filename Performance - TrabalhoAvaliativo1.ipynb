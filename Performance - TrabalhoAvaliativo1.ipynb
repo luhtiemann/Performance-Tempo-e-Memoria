{
  "nbformat": 4,
  "nbformat_minor": 0,
  "metadata": {
    "colab": {
      "provenance": []
    },
    "kernelspec": {
      "name": "python3",
      "display_name": "Python 3"
    },
    "language_info": {
      "name": "python"
    }
  },
  "cells": [
    {
      "cell_type": "markdown",
      "source": [
        "Grupo:\n",
        "\n",
        "*   Luana Tiemann Halicki Cordeiro\n",
        "*   Alexandre Cicero Araujo Beiruth\n",
        "*   Leandro Cardoso Vieira\n",
        "*   João Vitor Gabardo da Cunha"
      ],
      "metadata": {
        "id": "Nf37CDzp6Nhx"
      }
    },
    {
      "cell_type": "markdown",
      "source": [
        "Usando um ambiente online (repl.it ou, preferencialmente, Google Colaboratory), escreva um código em Python que permita medir o espaço de memória e o tempo necessário, em nano segundos, para a execução das seguintes funções:"
      ],
      "metadata": {
        "id": "Hkju2weg50OS"
      }
    },
    {
      "cell_type": "markdown",
      "source": [
        "a) criar um array com 1000 caracteres aleatórios;"
      ],
      "metadata": {
        "id": "v9g35e_u58aq"
      }
    },
    {
      "cell_type": "code",
      "execution_count": null,
      "metadata": {
        "colab": {
          "base_uri": "https://localhost:8080/"
        },
        "id": "y5UAgTXAoSyB",
        "outputId": "7b411bbb-5edf-4319-f3de-e051a2c819a3"
      },
      "outputs": [
        {
          "output_type": "stream",
          "name": "stdout",
          "text": [
            "\n",
            "Tempo:  4456228 nano segundos\n",
            "Espaço de memória(atual,pico):  (13583, 24151)\n"
          ]
        }
      ],
      "source": [
        "import time\n",
        "import tracemalloc #calculo espaço memoria\n",
        "import numpy as np\n",
        "import random\n",
        "import string\n",
        "\n",
        "\n",
        "carac = []\n",
        "def array1000():\n",
        "  for i in range(0,999):\n",
        "    carac.append(random.choice(string.ascii_letters))\n",
        "\n",
        "tracemalloc.start() #começa monitoramento\n",
        "start = time.time_ns() #começa o tempo\n",
        "array1000() #chama funcao\n",
        "end = time.time_ns()#termina o tempo\n",
        "print(\"\\nTempo: \", end-start, \"nano segundos\") #printa o tempo\n",
        "print(\"Espaço de memória(atual,pico): \", tracemalloc.get_traced_memory()) #printa a memoria\n",
        "tracemalloc.stop()#para a livraria\n",
        "\n",
        "#A saída é dada na forma de (corrente, pico), ou seja, a memória atual é a memória que o código está usando no momento e a memória de pico é o espaço máximo que o programa usou durante a execução."
      ]
    },
    {
      "cell_type": "markdown",
      "source": [
        "b) ordenar um array com 1000 caracteres;"
      ],
      "metadata": {
        "id": "LnmvpEcp6BZC"
      }
    },
    {
      "cell_type": "code",
      "source": [
        "import time\n",
        "import tracemalloc #calculo espaço memoria\n",
        "import numpy as np\n",
        "\n",
        "\n",
        "carac = []\n",
        "def array1000():\n",
        "  for i in range(0,999):\n",
        "    carac.append(random.choice(string.ascii_letters))\n",
        "    ordenado = sorted(carac)\n",
        "  print(ordenado)\n",
        "\n",
        "\n",
        "\n",
        "tracemalloc.start() #começa monitoramento\n",
        "start = time.time_ns() #começa o tempo\n",
        "array1000() #chama funcao\n",
        "end = time.time_ns()#termina o tempo\n",
        "print(\"\\nTempo: \", end-start, \"nano segundos\") #printa o tempo\n",
        "print(\"Espaço de memória(atual,pico): \", tracemalloc.get_traced_memory()) #printa a memoria\n",
        "tracemalloc.stop()#para a livraria"
      ],
      "metadata": {
        "colab": {
          "base_uri": "https://localhost:8080/"
        },
        "id": "ieHXfOzNDgWz",
        "outputId": "970e9a0a-853d-48dc-ff81-2899597a2c53"
      },
      "execution_count": null,
      "outputs": [
        {
          "output_type": "stream",
          "name": "stdout",
          "text": [
            "['A', 'A', 'A', 'A', 'A', 'A', 'A', 'A', 'A', 'A', 'A', 'A', 'A', 'A', 'A', 'A', 'A', 'A', 'A', 'B', 'B', 'B', 'B', 'B', 'B', 'B', 'B', 'B', 'B', 'B', 'B', 'B', 'B', 'B', 'B', 'B', 'B', 'C', 'C', 'C', 'C', 'C', 'C', 'C', 'C', 'C', 'C', 'C', 'C', 'C', 'C', 'C', 'C', 'D', 'D', 'D', 'D', 'D', 'D', 'D', 'D', 'D', 'D', 'D', 'D', 'D', 'D', 'D', 'D', 'D', 'D', 'D', 'E', 'E', 'E', 'E', 'E', 'E', 'E', 'E', 'E', 'E', 'E', 'E', 'E', 'E', 'E', 'F', 'F', 'F', 'F', 'F', 'F', 'F', 'F', 'F', 'F', 'F', 'F', 'F', 'F', 'F', 'F', 'F', 'F', 'F', 'G', 'G', 'G', 'G', 'G', 'G', 'G', 'G', 'G', 'G', 'G', 'G', 'G', 'G', 'G', 'G', 'G', 'G', 'G', 'G', 'G', 'G', 'G', 'H', 'H', 'H', 'H', 'H', 'H', 'H', 'H', 'H', 'H', 'H', 'H', 'H', 'H', 'H', 'H', 'H', 'I', 'I', 'I', 'I', 'I', 'I', 'I', 'I', 'I', 'I', 'I', 'I', 'I', 'I', 'I', 'I', 'I', 'I', 'I', 'I', 'I', 'I', 'I', 'I', 'I', 'I', 'I', 'I', 'J', 'J', 'J', 'J', 'J', 'J', 'J', 'J', 'J', 'J', 'J', 'J', 'J', 'J', 'J', 'J', 'J', 'J', 'J', 'J', 'K', 'K', 'K', 'K', 'K', 'K', 'K', 'K', 'K', 'K', 'K', 'K', 'K', 'K', 'K', 'K', 'K', 'K', 'K', 'K', 'K', 'K', 'K', 'K', 'K', 'K', 'K', 'K', 'K', 'K', 'K', 'K', 'K', 'L', 'L', 'L', 'L', 'L', 'L', 'L', 'L', 'L', 'L', 'L', 'L', 'L', 'L', 'L', 'L', 'L', 'L', 'L', 'L', 'M', 'M', 'M', 'M', 'M', 'M', 'M', 'M', 'M', 'M', 'M', 'M', 'M', 'M', 'N', 'N', 'N', 'N', 'N', 'N', 'N', 'N', 'N', 'N', 'N', 'N', 'N', 'N', 'N', 'N', 'N', 'N', 'N', 'N', 'N', 'N', 'N', 'N', 'N', 'N', 'O', 'O', 'O', 'O', 'O', 'O', 'O', 'O', 'O', 'O', 'O', 'O', 'O', 'O', 'O', 'P', 'P', 'P', 'P', 'P', 'P', 'P', 'P', 'P', 'P', 'P', 'P', 'P', 'P', 'P', 'P', 'P', 'P', 'P', 'P', 'P', 'Q', 'Q', 'Q', 'Q', 'Q', 'Q', 'Q', 'Q', 'Q', 'Q', 'Q', 'Q', 'Q', 'Q', 'Q', 'Q', 'Q', 'Q', 'Q', 'Q', 'Q', 'Q', 'Q', 'R', 'R', 'R', 'R', 'R', 'R', 'R', 'R', 'R', 'R', 'R', 'R', 'R', 'R', 'R', 'S', 'S', 'S', 'S', 'S', 'S', 'S', 'S', 'S', 'S', 'S', 'S', 'S', 'S', 'S', 'T', 'T', 'T', 'T', 'T', 'T', 'T', 'T', 'T', 'T', 'T', 'T', 'T', 'T', 'T', 'T', 'T', 'T', 'T', 'T', 'U', 'U', 'U', 'U', 'U', 'U', 'U', 'U', 'U', 'U', 'U', 'U', 'U', 'U', 'U', 'U', 'U', 'V', 'V', 'V', 'V', 'V', 'V', 'V', 'V', 'V', 'V', 'V', 'V', 'V', 'V', 'V', 'V', 'V', 'V', 'W', 'W', 'W', 'W', 'W', 'W', 'W', 'W', 'W', 'W', 'W', 'W', 'W', 'W', 'W', 'W', 'W', 'W', 'X', 'X', 'X', 'X', 'X', 'X', 'X', 'X', 'X', 'X', 'X', 'X', 'X', 'Y', 'Y', 'Y', 'Y', 'Y', 'Y', 'Y', 'Y', 'Y', 'Y', 'Y', 'Y', 'Y', 'Y', 'Y', 'Y', 'Y', 'Y', 'Z', 'Z', 'Z', 'Z', 'Z', 'Z', 'Z', 'Z', 'Z', 'Z', 'Z', 'Z', 'Z', 'Z', 'Z', 'Z', 'a', 'a', 'a', 'a', 'a', 'a', 'a', 'a', 'a', 'a', 'a', 'a', 'a', 'a', 'a', 'a', 'a', 'a', 'b', 'b', 'b', 'b', 'b', 'b', 'b', 'b', 'b', 'b', 'b', 'b', 'b', 'b', 'b', 'b', 'b', 'b', 'b', 'b', 'b', 'b', 'b', 'b', 'c', 'c', 'c', 'c', 'c', 'c', 'c', 'c', 'c', 'c', 'c', 'c', 'c', 'c', 'c', 'd', 'd', 'd', 'd', 'd', 'd', 'd', 'd', 'd', 'd', 'd', 'd', 'd', 'd', 'e', 'e', 'e', 'e', 'e', 'e', 'e', 'e', 'e', 'e', 'e', 'e', 'e', 'e', 'e', 'e', 'f', 'f', 'f', 'f', 'f', 'f', 'f', 'f', 'f', 'f', 'f', 'f', 'f', 'f', 'f', 'f', 'f', 'f', 'f', 'f', 'f', 'f', 'f', 'f', 'f', 'f', 'f', 'f', 'f', 'f', 'f', 'g', 'g', 'g', 'g', 'g', 'g', 'g', 'g', 'g', 'g', 'g', 'g', 'g', 'g', 'g', 'g', 'g', 'g', 'h', 'h', 'h', 'h', 'h', 'h', 'h', 'h', 'h', 'h', 'h', 'h', 'i', 'i', 'i', 'i', 'i', 'i', 'i', 'i', 'i', 'i', 'i', 'i', 'i', 'i', 'i', 'i', 'i', 'i', 'i', 'i', 'j', 'j', 'j', 'j', 'j', 'j', 'j', 'j', 'j', 'j', 'j', 'j', 'j', 'j', 'j', 'j', 'j', 'k', 'k', 'k', 'k', 'k', 'k', 'k', 'k', 'k', 'k', 'k', 'k', 'k', 'k', 'k', 'k', 'k', 'k', 'k', 'k', 'k', 'k', 'l', 'l', 'l', 'l', 'l', 'l', 'l', 'l', 'l', 'l', 'l', 'l', 'l', 'l', 'l', 'l', 'l', 'l', 'l', 'l', 'l', 'l', 'l', 'l', 'l', 'l', 'l', 'l', 'l', 'm', 'm', 'm', 'm', 'm', 'm', 'm', 'm', 'm', 'm', 'm', 'm', 'm', 'm', 'm', 'm', 'm', 'n', 'n', 'n', 'n', 'n', 'n', 'n', 'n', 'n', 'n', 'n', 'n', 'n', 'n', 'n', 'n', 'n', 'n', 'o', 'o', 'o', 'o', 'o', 'o', 'o', 'o', 'o', 'o', 'o', 'o', 'o', 'o', 'o', 'p', 'p', 'p', 'p', 'p', 'p', 'p', 'p', 'p', 'p', 'p', 'p', 'p', 'p', 'p', 'p', 'p', 'p', 'p', 'p', 'p', 'p', 'p', 'q', 'q', 'q', 'q', 'q', 'q', 'q', 'q', 'q', 'q', 'q', 'q', 'q', 'q', 'q', 'q', 'q', 'q', 'q', 'q', 'q', 'q', 'q', 'q', 'q', 'q', 'r', 'r', 'r', 'r', 'r', 'r', 'r', 'r', 'r', 'r', 'r', 'r', 'r', 'r', 'r', 's', 's', 's', 's', 's', 's', 's', 's', 's', 's', 's', 's', 's', 's', 's', 's', 's', 's', 's', 's', 's', 't', 't', 't', 't', 't', 't', 't', 't', 't', 't', 't', 't', 't', 't', 't', 't', 't', 'u', 'u', 'u', 'u', 'u', 'u', 'u', 'u', 'u', 'u', 'u', 'u', 'u', 'v', 'v', 'v', 'v', 'v', 'v', 'v', 'v', 'v', 'v', 'v', 'v', 'v', 'v', 'v', 'v', 'v', 'v', 'v', 'v', 'v', 'v', 'v', 'w', 'w', 'w', 'w', 'w', 'w', 'w', 'w', 'w', 'w', 'w', 'w', 'w', 'w', 'w', 'w', 'w', 'w', 'w', 'w', 'w', 'w', 'w', 'x', 'x', 'x', 'x', 'x', 'x', 'x', 'x', 'x', 'x', 'x', 'x', 'x', 'x', 'x', 'x', 'y', 'y', 'y', 'y', 'y', 'y', 'y', 'y', 'y', 'y', 'y', 'y', 'y', 'y', 'y', 'y', 'y', 'y', 'z', 'z', 'z', 'z', 'z', 'z', 'z', 'z', 'z', 'z', 'z', 'z', 'z', 'z', 'z', 'z', 'z', 'z', 'z', 'z', 'z', 'z']\n",
            "\n",
            "Tempo:  83576683 nano segundos\n",
            "Espaço de memória(atual,pico):  (18203, 31758)\n"
          ]
        }
      ]
    },
    {
      "cell_type": "markdown",
      "source": [
        "c) Imprimir, no terminal um array com 1000 caracteres;"
      ],
      "metadata": {
        "id": "pPX7ktTd6GiS"
      }
    },
    {
      "cell_type": "code",
      "source": [
        "import time\n",
        "import tracemalloc #calculo espaço memoria\n",
        "import numpy as np\n",
        "\n",
        "carac = []\n",
        "def array1000():\n",
        "  for i in range(0,999):\n",
        "    carac.append(random.choice(string.ascii_letters))\n",
        "  print(carac)\n",
        "\n",
        "tracemalloc.start() #começa monitoramento\n",
        "start = time.time_ns() #começa o tempo\n",
        "array1000() #chama funcao\n",
        "end = time.time_ns()#termina o tempo\n",
        "print(\"\\nTempo: \", end-start, \"nano segundos\") #printa o tempo\n",
        "print(\"Espaço de memória(atual,pico): \", tracemalloc.get_traced_memory()) #printa a memoria\n",
        "tracemalloc.stop()#para a livraria"
      ],
      "metadata": {
        "colab": {
          "base_uri": "https://localhost:8080/"
        },
        "id": "uRJufGClFJXq",
        "outputId": "d8bc1963-45b9-411a-f674-5e6054fe42a1"
      },
      "execution_count": null,
      "outputs": [
        {
          "output_type": "stream",
          "name": "stdout",
          "text": [
            "['i', 'G', 'D', 'S', 'd', 'b', 'e', 'z', 'h', 'f', 'v', 'N', 'X', 'J', 'M', 'H', 'C', 'R', 'O', 'h', 'k', 'b', 'q', 'A', 'B', 'l', 'U', 'f', 'e', 'l', 'e', 'v', 'i', 'f', 'h', 'l', 'D', 'f', 'd', 'D', 'C', 'F', 'x', 'S', 't', 'P', 't', 'g', 'M', 'U', 'w', 'L', 'Q', 'y', 'm', 'N', 'J', 'd', 'I', 'L', 'A', 't', 'X', 'A', 'E', 'L', 'K', 'O', 'A', 'g', 'o', 'H', 'B', 'B', 'v', 'K', 'x', 'y', 'J', 'V', 'x', 'N', 'b', 'x', 'A', 'g', 't', 'y', 'H', 'N', 'o', 'P', 'Y', 'Y', 'R', 'Q', 'S', 'i', 'p', 'C', 'i', 't', 'R', 'n', 'N', 't', 'A', 'i', 'G', 'q', 'k', 'S', 'q', 'l', 'Y', 'q', 'K', 'R', 'H', 'z', 'P', 'z', 'i', 'S', 't', 'C', 'Z', 'x', 'G', 'Q', 'X', 'v', 'o', 'F', 'X', 'y', 'T', 'K', 'r', 'U', 'o', 'G', 'o', 'm', 'W', 'z', 'o', 'l', 'Y', 'Z', 'N', 'r', 'u', 'a', 't', 'z', 'b', 'R', 'E', 'Y', 'h', 'l', 'A', 'm', 'i', 'i', 'I', 'P', 'q', 'R', 'g', 'Z', 'Z', 'W', 'e', 'D', 'P', 'K', 'z', 's', 'W', 'D', 'n', 'Q', 'L', 'u', 'V', 'd', 'e', 'P', 'N', 'Q', 'a', 'M', 'u', 'l', 'p', 'F', 'W', 'g', 'E', 'Q', 'e', 'g', 'N', 'k', 'E', 'A', 'o', 'Y', 'B', 'f', 'h', 'z', 'z', 'P', 'r', 'l', 'w', 'F', 'A', 'L', 'K', 'Q', 'a', 'z', 'x', 'p', 'y', 'z', 'o', 'i', 'd', 'm', 'y', 'g', 'w', 'z', 'E', 'q', 'r', 'U', 'V', 'h', 'j', 'Z', 'N', 'I', 'Z', 'j', 'C', 'h', 'u', 'F', 'Q', 'a', 'H', 'e', 'T', 'Q', 'X', 'Q', 'M', 'n', 'X', 'Y', 'F', 'Q', 'K', 'z', 'A', 'J', 's', 'T', 'q', 'g', 'H', 'a', 'y', 'B', 'm', 'F', 'H', 'I', 'b', 's', 'W', 'U', 'O', 'P', 'H', 'T', 'y', 'g', 'E', 'u', 'N', 'I', 'C', 'a', 'i', 'r', 'K', 'u', 't', 'S', 'B', 'r', 'A', 's', 'U', 'H', 'O', 'T', 'W', 'u', 'F', 'G', 'D', 'A', 's', 'k', 'o', 'R', 'Q', 'Q', 'S', 'Z', 'h', 'r', 'L', 'k', 'O', 's', 'z', 'x', 'W', 'h', 'Q', 'A', 'H', 'e', 'Y', 'a', 'v', 'R', 'b', 'e', 'o', 'g', 'M', 'm', 'f', 'J', 'j', 'y', 'R', 'J', 'L', 'S', 'O', 'L', 'K', 'a', 'k', 'A', 'F', 'p', 'u', 'z', 'g', 'O', 'r', 'd', 'y', 'S', 'o', 'a', 'z', 'H', 'G', 'Y', 'I', 'c', 'V', 'q', 'r', 'n', 'S', 'g', 'r', 'A', 'I', 'B', 'v', 'v', 'R', 'J', 'y', 'f', 'n', 'b', 'B', 'b', 'p', 'R', 'O', 'G', 'H', 'Z', 'O', 'W', 'g', 'f', 'g', 'I', 'v', 'j', 'Q', 'P', 'v', 'a', 'b', 'P', 'q', 'j', 'O', 'v', 'I', 'K', 'y', 'k', 'y', 'q', 'x', 'Z', 'F', 'B', 'f', 'B', 'j', 's', 'E', 'g', 'p', 'S', 'p', 'U', 'W', 'l', 'N', 'Z', 'w', 'm', 'c', 'G', 'V', 'j', 'W', 'Z', 'v', 'm', 'O', 'n', 'B', 'N', 'k', 'n', 'R', 'U', 'Q', 'H', 'a', 'q', 'v', 'w', 'K', 'P', 'M', 'y', 'q', 'j', 's', 'm', 'X', 'D', 'h', 'w', 'R', 't', 'o', 'F', 'Q', 'f', 'r', 'i', 's', 'D', 'G', 'V', 'Y', 'D', 'Z', 'j', 'M', 'K', 'n', 'z', 'u', 'v', 'H', 'D', 't', 'd', 'q', 'S', 'E', 'S', 'N', 'E', 'A', 'O', 'r', 'A', 'C', 'T', 'K', 'w', 'Y', 'G', 'U', 'N', 'W', 'T', 'E', 'U', 'l', 'K', 'q', 'b', 'H', 'W', 'N', 'K', 'u', 'h', 'h', 'j', 'C', 'M', 'J', 'D', 'u', 'G', 'Y', 'n', 'x', 'N', 'v', 'b', 'l', 'M', 'S', 'O', 'Y', 'B', 'r', 'B', 'o', 'F', 'A', 'q', 't', 'R', 'n', 'd', 'y', 'c', 'L', 's', 'A', 'E', 'W', 'T', 'G', 'd', 'z', 'B', 't', 'I', 'd', 'I', 'N', 'L', 'K', 'B', 'k', 'q', 'J', 'K', 'N', 'S', 'd', 's', 'c', 'V', 'i', 'J', 'R', 'k', 'M', 'N', 'U', 'C', 'Y', 't', 'w', 'Q', 's', 'w', 'o', 'o', 'D', 'L', 'R', 'c', 'O', 'T', 'P', 's', 'g', 'x', 'j', 'X', 'L', 'Q', 'z', 'B', 'S', 'c', 'K', 'W', 'Z', 'z', 'D', 'G', 'F', 'b', 'i', 'u', 'F', 'y', 'C', 'U', 'b', 'i', 'X', 'P', 'v', 'w', 'F', 'c', 'O', 'H', 's', 'y', 'm', 'B', 'j', 'O', 'u', 's', 'm', 'I', 'z', 'g', 'j', 'D', 'u', 'i', 'P', 'e', 'u', 'f', 'Z', 'I', 'm', 'M', 'z', 'i', 's', 'B', 'I', 'k', 'i', 'k', 'U', 'J', 'q', 'V', 'a', 'g', 'r', 'b', 'W', 'W', 'u', 'V', 'u', 'q', 'p', 'V', 'r', 'r', 'o', 'b', 'V', 'H', 'H', 'd', 't', 'Q', 'N', 'u', 'X', 'g', 'I', 'Y', 'L', 's', 'W', 'g', 'A', 'o', 'k', 'u', 'y', 'D', 'K', 'i', 'M', 'S', 'W', 'H', 'x', 'Z', 'F', 'm', 'p', 'O', 'W', 'D', 'Y', 's', 'P', 'g', 't', 'K', 'B', 'E', 'f', 'X', 'E', 'j', 'G', 'z', 'p', 'J', 'C', 'e', 'L', 'h', 'c', 'T', 'A', 'M', 's', 'E', 'L', 'Y', 'i', 'h', 'A', 'm', 'b', 'q', 'U', 's', 'Q', 't', 'U', 'r', 'Q', 'y', 'm', 'N', 'P', 'J', 'X', 'E', 'Y', 'r', 'x', 'w', 'E', 'o', 'C', 'g', 'L', 'O', 'O', 'G', 'I', 'G', 'q', 'f', 'm', 'B', 'y', 't', 'I', 'M', 'e', 'c', 'Y', 'Z', 'w', 'N', 'G', 'U', 'c', 'U', 'y', 'z', 'P', 'A', 'B', 'E', 'L', 'd', 'B', 'e', 'U', 'P', 'x', 'A', 'c', 'a', 'F', 'F', 'p', 'x', 'u', 'A', 'U', 'O', 'M', 'K', 'D', 'P', 'f', 'W', 'b', 'Y', 'o', 'v', 'Y', 'B', 'M', 'K', 'S', 'Y', 'U', 'g', 'J', 'h', 'J', 'i', 'M', 'J', 'g', 'w', 'u', 'd', 'f', 'P', 'v', 'M', 'L', 'A', 'k', 'A', 'K', 'T', 'S', 'Y', 'o', 'x', 'd', 'S', 'c', 'f', 'S', 'j', 'a', 'P', 'Z', 'X', 'H', 'J', 't', 'Y', 'o', 'P', 'i', 'u', 'S', 'E', 'n', 'O', 'm', 'V', 'y', 'M', 'p', 'W', 'G', 'G', 'K', 'N', 'a', 'H', 'd', 'p', 'b', 'A', 'I', 'I', 'x', 'E', 'U', 'F', 'b', 'l', 'T', 'r', 'h', 'R', 'b', 'K', 't', 'v', 'u', 's', 'K', 'T', 'G', 'F', 'l', 't', 't', 'T', 'M', 'u', 'V', 'z', 'g', 'T', 'r', 'O', 'v', 'H', 'd', 'X', 'S', 'w', 'X', 'b', 'L', 'n', 'T', 'H', 'h', 'p', 'i', 'i', 'Z', 'o', 'w', 'K', 'f', 'H', 'w', 'p', 'i', 'q', 'd', 'J', 'n']\n",
            "\n",
            "Tempo:  8388638 nano segundos\n",
            "Espaço de memória(atual,pico):  (16446, 27014)\n"
          ]
        }
      ]
    },
    {
      "cell_type": "markdown",
      "source": [
        "\n",
        "d) calcular 𝜋 Com 100 casas decimais usando a aproximação de Leibnitz:"
      ],
      "metadata": {
        "id": "KSduUvlp6Ify"
      }
    },
    {
      "cell_type": "code",
      "source": [
        "import decimal\n",
        "import time\n",
        "import tracemalloc\n",
        "\n",
        "def Leibnitz():\n",
        "  decimal.getcontext().prec = 101\n",
        "\n",
        "  soma= 0\n",
        "  for i in range (10000000):\n",
        "    termo = decimal.Decimal((-1)**i)/decimal.Decimal(2*i+1)\n",
        "    soma += termo\n",
        "\n",
        "  soma=soma*4\n",
        "  somaDecimal = decimal.Decimal(soma)\n",
        "  print(somaDecimal)\n",
        "\n",
        "\n",
        "tracemalloc.start() #começa monitoramento\n",
        "start = time.time_ns() #começa o tempo\n",
        "Leibnitz()#chama funcao\n",
        "end = time.time_ns()#termina o tempo\n",
        "print(\"\\nTempo: \", end-start, \"nano segundos\") #printa o tempo\n",
        "print(\"Espaço de memória(atual,pico): \", tracemalloc.get_traced_memory()) #printa a memoria\n",
        "tracemalloc.stop()#para a livraria"
      ],
      "metadata": {
        "colab": {
          "base_uri": "https://localhost:8080/"
        },
        "id": "XUY6nicnIuGo",
        "outputId": "fd63f161-a8e7-4ec8-8fff-df302cc5decc"
      },
      "execution_count": null,
      "outputs": [
        {
          "output_type": "stream",
          "name": "stdout",
          "text": [
            "3.1415925535897932384628933832795028810721693993752011334749445868976601562867023677686597593566434058\n",
            "\n",
            "Tempo:  83889666871 nano segundos\n",
            "Espaço de memória(atual,pico):  (36873, 86284)\n"
          ]
        }
      ]
    }
  ]
}